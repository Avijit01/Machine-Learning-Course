{
  "nbformat": 4,
  "nbformat_minor": 0,
  "metadata": {
    "colab": {
      "provenance": []
    },
    "kernelspec": {
      "name": "python3",
      "display_name": "Python 3"
    },
    "language_info": {
      "name": "python"
    }
  },
  "cells": [
    {
      "cell_type": "markdown",
      "source": [
        "#Assignment-2:\n",
        "1. Problem: You have a list of numbers and need to filter out only the even numbers using a lambda function. Solution: Use the filter() function with a lambda function to filter the list of numbers for even values.\n",
        "2. Problem: You have a list of strings representing numbers, and you need to convert each string to an integer using a lambda function. Solution: Use the map() function with a lambda function to convert each string element in the list to an integer.\n",
        "3. Problem: You have a list of dictionaries containing student information, and you need to sort the list based on the 'age' key using a lambda function. Solution: Use the sorted() function with a lambda function as the key parameter to sort the list of dictionaries based on the 'age' key.\n",
        "4. Problem: You have a list of numbers and need to create a new list containing squares of only the positive numbers using a lambda function. Solution: Use the map() function with a lambda function that squares each number if it is positive, and then filter out the negative results using the filter() function.\n",
        "5. Problem: You have a list of tuples representing (student, score), and you need to find the student with the highest score using a lambda function. Solution: Use the max() function with a lambda function as the key parameter to find the tuple with the highest score in the list."
      ],
      "metadata": {
        "id": "w4d6wd1dCpKu"
      }
    },
    {
      "cell_type": "markdown",
      "source": [
        "#Solution of Problem-1:"
      ],
      "metadata": {
        "id": "Il7PjMt2Daes"
      }
    },
    {
      "cell_type": "code",
      "execution_count": 2,
      "metadata": {
        "colab": {
          "base_uri": "https://localhost:8080/"
        },
        "id": "6BthcgBVB4xt",
        "outputId": "9ae74eef-3bf9-4061-c23a-2719001d8a6d"
      },
      "outputs": [
        {
          "output_type": "stream",
          "name": "stdout",
          "text": [
            "[2, 4, 6, 8, 10]\n"
          ]
        }
      ],
      "source": [
        "# Sample list of numbers\n",
        "numbers = [1, 2, 3, 4, 5, 6, 7, 8, 9, 10]\n",
        "\n",
        "# Using filter with a lambda function to get only even numbers\n",
        "even_numbers = list(filter(lambda x: x % 2 == 0, numbers))\n",
        "\n",
        "# Print the filtered list of even numbers\n",
        "print(even_numbers)"
      ]
    },
    {
      "cell_type": "markdown",
      "source": [
        "#Solution of Problem-2:"
      ],
      "metadata": {
        "id": "gXGFj3oPDZFn"
      }
    },
    {
      "cell_type": "code",
      "source": [
        "# Sample list of strings representing numbers\n",
        "string_numbers = [\"1\", \"2\", \"3\", \"4\", \"5\", \"6\", \"7\", \"8\", \"9\", \"10\"]\n",
        "\n",
        "# Using map with a lambda function to convert each string to an integer\n",
        "integer_numbers = list(map(lambda x: int(x), string_numbers))\n",
        "\n",
        "# Print the list of converted integers\n",
        "print(integer_numbers)"
      ],
      "metadata": {
        "colab": {
          "base_uri": "https://localhost:8080/"
        },
        "id": "iQBRTcjR1kBb",
        "outputId": "cc6e9802-8f60-4b3e-eaea-416e698611c8"
      },
      "execution_count": 3,
      "outputs": [
        {
          "output_type": "stream",
          "name": "stdout",
          "text": [
            "[1, 2, 3, 4, 5, 6, 7, 8, 9, 10]\n"
          ]
        }
      ]
    },
    {
      "cell_type": "markdown",
      "source": [
        "#Solution of Problem-3:"
      ],
      "metadata": {
        "id": "uHxPznCeDj58"
      }
    },
    {
      "cell_type": "code",
      "source": [
        "# Sample list of dictionaries containing student information\n",
        "students = [\n",
        "    {\"name\": \"Alice\", \"age\": 25, \"grade\": \"A\"},\n",
        "    {\"name\": \"Bob\", \"age\": 22, \"grade\": \"B\"},\n",
        "    {\"name\": \"Charlie\", \"age\": 23, \"grade\": \"C\"},\n",
        "    {\"name\": \"David\", \"age\": 24, \"grade\": \"B\"},\n",
        "    {\"name\": \"Eve\", \"age\": 21, \"grade\": \"A\"}\n",
        "]\n",
        "\n",
        "# Use sorted with a lambda function to sort the list based on the 'age' key\n",
        "sorted_students = sorted(students, key=lambda x: x['age'])\n",
        "\n",
        "# Print the sorted list of dictionaries\n",
        "for student in sorted_students:\n",
        "    print(student)"
      ],
      "metadata": {
        "colab": {
          "base_uri": "https://localhost:8080/"
        },
        "id": "o5TxBIM821-P",
        "outputId": "bb172777-0803-4475-fdf1-e02f5eb2600c"
      },
      "execution_count": 4,
      "outputs": [
        {
          "output_type": "stream",
          "name": "stdout",
          "text": [
            "{'name': 'Eve', 'age': 21, 'grade': 'A'}\n",
            "{'name': 'Bob', 'age': 22, 'grade': 'B'}\n",
            "{'name': 'Charlie', 'age': 23, 'grade': 'C'}\n",
            "{'name': 'David', 'age': 24, 'grade': 'B'}\n",
            "{'name': 'Alice', 'age': 25, 'grade': 'A'}\n"
          ]
        }
      ]
    },
    {
      "cell_type": "markdown",
      "source": [
        "#Solution of Problem-4:"
      ],
      "metadata": {
        "id": "spZuNlANDopB"
      }
    },
    {
      "cell_type": "code",
      "source": [
        "# Sample list of numbers\n",
        "numbers = [1, -2, 3, 4, -5, 6, -7, 8, 9, -10]\n",
        "\n",
        "# Use filter with a lambda function to get only positive numbers\n",
        "positive_numbers = list(filter(lambda x: x > 0, numbers))\n",
        "\n",
        "# Use map with a lambda function to get squares of the positive numbers\n",
        "squared_positive_numbers = list(map(lambda x: x ** 2, positive_numbers))\n",
        "\n",
        "# Print the new list containing squares of only the positive numbers\n",
        "print(squared_positive_numbers)"
      ],
      "metadata": {
        "colab": {
          "base_uri": "https://localhost:8080/"
        },
        "id": "8nynpxu84HTJ",
        "outputId": "4d110229-2f89-4265-c095-846ed255ac72"
      },
      "execution_count": 6,
      "outputs": [
        {
          "output_type": "stream",
          "name": "stdout",
          "text": [
            "[1, 9, 16, 36, 64, 81]\n"
          ]
        }
      ]
    },
    {
      "cell_type": "markdown",
      "source": [
        "#Solution of Problem-5:"
      ],
      "metadata": {
        "id": "VKiqZ1IkDsNT"
      }
    },
    {
      "cell_type": "code",
      "source": [
        "# Sample list of tuples representing (student, score)\n",
        "students_scores = [\n",
        "    (\"Alice\", 85),\n",
        "    (\"Bob\", 92),\n",
        "    (\"Charlie\", 88),\n",
        "    (\"David\", 91),\n",
        "    (\"Eve\", 95)\n",
        "]\n",
        "\n",
        "# Use max with a lambda function to find the student with the highest score\n",
        "top_student = max(students_scores, key=lambda x: x[1])\n",
        "\n",
        "# Print the student with the highest score\n",
        "print(top_student)"
      ],
      "metadata": {
        "colab": {
          "base_uri": "https://localhost:8080/"
        },
        "id": "aswYqWak5nwh",
        "outputId": "1c38f5e2-b06c-40f5-852d-b72167abb3d4"
      },
      "execution_count": 7,
      "outputs": [
        {
          "output_type": "stream",
          "name": "stdout",
          "text": [
            "('Eve', 95)\n"
          ]
        }
      ]
    }
  ]
}